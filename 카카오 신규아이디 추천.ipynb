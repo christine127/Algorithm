{
 "cells": [
  {
   "cell_type": "code",
   "execution_count": 52,
   "metadata": {},
   "outputs": [],
   "source": [
    "def solution(new_id):\n",
    "    answer = ''\n",
    "    #1단계 new_id의 모든 대문자를 대응되는 소문자로 치환합니다.\n",
    "    new_id = new_id.lower()\n",
    "    \n",
    "    #2단계 new_id에서 알파벳 소문자, 숫자, 빼기(-), 밑줄(_), 마침표(.)를 제외한 모든 문자를 제거합니다.\n",
    "    ##알파벳 리스트 만들기\n",
    "    from string import ascii_lowercase\n",
    "    alpha =list(ascii_lowercase)\n",
    "    alpha= tuple(alpha)\n",
    "    ##변수 걸러내기\n",
    "    new_id= \"\".join(i for i in new_id if i in alpha +(\"0\",\"1\",\"2\",\"3\",\"4\",\"5\",\"6\",\"7\",\"8\",\"9\",\"-\",\"_\",\".\"))        \n",
    "    \n",
    "    #3단계 new_id에서 마침표(.)가 2번 이상 연속된 부분을 하나의 마침표(.)로 치환합니다.\n",
    "    while new_id.count(\"..\") > 0:\n",
    "        new_id= new_id.replace(\"..\",\".\")\n",
    "    #4단계 new_id에서 마침표(.)가 처음이나 끝에 위치한다면 제거합니다\n",
    "    if new_id.startswith(\".\"):\n",
    "        new_id= new_id[1:]\n",
    "    elif new_id.endswith(\".\"):\n",
    "        new_id= new_id[:-1]        \n",
    "    #5단계 new_id가 빈 문자열이라면, new_id에 \"a\"를 대입합니다.\n",
    "    if len(new_id) == 0:\n",
    "        new_id= \"a\"\n",
    "    #6단계 new_id의 길이가 16자 이상이면, new_id의 첫 15개의 문자를 제외한 나머지 문자들을 모두 제거합니다.\n",
    "    if len(new_id) >=16:\n",
    "        new_id =new_id[0:15]\n",
    "    #     만약 제거 후 마침표(.)가 new_id의 끝에 위치한다면 끝에 위치한 마침표(.) 문자를 제거합니다.\n",
    "    if new_id.endswith(\".\"):\n",
    "        new_id= new_id[:-1]        \n",
    "    #7단계 new_id의 길이가 2자 이하라면, new_id의 마지막 문자를 new_id의 길이가 3이 될 때까지 반복해서 끝에 붙입니다.\n",
    "    if len(new_id) <=2:\n",
    "        while len(new_id)<3:\n",
    "            new_id =new_id +new_id[-1]\n",
    "    answer =new_id\n",
    "    return answer"
   ]
  },
  {
   "cell_type": "code",
   "execution_count": 53,
   "metadata": {},
   "outputs": [
    {
     "data": {
      "text/plain": [
       "'bat.y.abcdefghi'"
      ]
     },
     "execution_count": 53,
     "metadata": {},
     "output_type": "execute_result"
    }
   ],
   "source": [
    "new_id =\"...!@BaT#*..y.abcdefghijklm\"\n",
    "solution(new_id)"
   ]
  },
  {
   "cell_type": "code",
   "execution_count": 40,
   "metadata": {},
   "outputs": [
    {
     "data": {
      "text/plain": [
       "'m'"
      ]
     },
     "execution_count": 40,
     "metadata": {},
     "output_type": "execute_result"
    }
   ],
   "source": [
    "new_id[-1]"
   ]
  },
  {
   "cell_type": "code",
   "execution_count": 51,
   "metadata": {},
   "outputs": [
    {
     "data": {
      "text/plain": [
       "'...a..y.abcdefghijklm'"
      ]
     },
     "execution_count": 51,
     "metadata": {},
     "output_type": "execute_result"
    }
   ],
   "source": [
    "\"\".join(i for i in new_id if i in alpha +(\"0\",\"1\",\"2\",\"3\",\"4\",\"5\",\"6\",\"7\",\"8\",\"9\",\"-\",\"_\",\".\")) "
   ]
  },
  {
   "cell_type": "code",
   "execution_count": 37,
   "metadata": {
    "scrolled": true
   },
   "outputs": [
    {
     "name": "stdout",
     "output_type": "stream",
     "text": [
      "!@BaT#*.y.abcdefghijklm\n"
     ]
    }
   ],
   "source": []
  }
 ],
 "metadata": {
  "kernelspec": {
   "display_name": "Python 3",
   "language": "python",
   "name": "python3"
  },
  "language_info": {
   "codemirror_mode": {
    "name": "ipython",
    "version": 3
   },
   "file_extension": ".py",
   "mimetype": "text/x-python",
   "name": "python",
   "nbconvert_exporter": "python",
   "pygments_lexer": "ipython3",
   "version": "3.8.5"
  }
 },
 "nbformat": 4,
 "nbformat_minor": 4
}
