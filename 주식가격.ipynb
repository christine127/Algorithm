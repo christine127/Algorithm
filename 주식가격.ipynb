{
 "metadata": {
  "language_info": {
   "codemirror_mode": {
    "name": "ipython",
    "version": 3
   },
   "file_extension": ".py",
   "mimetype": "text/x-python",
   "name": "python",
   "nbconvert_exporter": "python",
   "pygments_lexer": "ipython3",
   "version": "3.8.5"
  },
  "orig_nbformat": 2,
  "kernelspec": {
   "name": "python385jvsc74a57bd097ae724bfa85b9b34df7982b8bb8c7216f435b92902d749e4263f71162bea840",
   "display_name": "Python 3.8.5 64-bit ('base': conda)"
  }
 },
 "nbformat": 4,
 "nbformat_minor": 2,
 "cells": [
  {
   "cell_type": "code",
   "execution_count": 53,
   "metadata": {},
   "outputs": [],
   "source": [
    "prices = [1, 2, 3, 2, 3]\n",
    "prices2 = [1, 2, 3, 4, 3]\n",
    "answer = []"
   ]
  },
  {
   "cell_type": "code",
   "execution_count": 31,
   "metadata": {},
   "outputs": [],
   "source": [
    "import collections\n",
    "def solution(pr):\n",
    "    i = 1\n",
    "    answer = collections.deque([0])\n",
    "    while len(pr) >1:\n",
    "        if i == 1 :\n",
    "            answer.appendleft(1)\n",
    "            pr.pop()\n",
    "            print(i, pr)\n",
    "            i += 1\n",
    "        elif pr[-2] <= pr[-1]:\n",
    "            answer.appendleft(i)\n",
    "            pr.pop()\n",
    "            print(i, pr)\n",
    "            i += 1\n",
    "        else: \n",
    "            answer.appendleft(1)\n",
    "            pr.pop()\n",
    "            print(i, pr)\n",
    "            i += 1\n",
    "    return answer\n"
   ]
  },
  {
   "cell_type": "code",
   "execution_count": 33,
   "metadata": {},
   "outputs": [
    {
     "output_type": "stream",
     "name": "stdout",
     "text": [
      "1 [1, 2, 3, 2]\n2 [1, 2, 3]\n3 [1, 2]\n4 [1]\n"
     ]
    },
    {
     "output_type": "execute_result",
     "data": {
      "text/plain": [
       "deque([4, 3, 1, 1, 0])"
      ]
     },
     "metadata": {},
     "execution_count": 33
    }
   ],
   "source": [
    "solution(prices)"
   ]
  },
  {
   "cell_type": "code",
   "execution_count": 55,
   "metadata": {},
   "outputs": [],
   "source": [
    "def solution2(pr): \n",
    "    while len(pr) >=2:\n",
    "        if len(pr) <=2:\n",
    "            answer.append(1)\n",
    "            answer.append(0)\n",
    "            pr.pop()    \n",
    "        else: \n",
    "            if pr[0] <= pr[1]:\n",
    "                answer.append(len(pr)-1)\n",
    "                pr.pop(0)\n",
    "            else:\n",
    "                answer.append(1)\n",
    "                pr.pop(0)\n",
    "        \n",
    "    return answer\n"
   ]
  },
  {
   "cell_type": "code",
   "execution_count": 56,
   "metadata": {},
   "outputs": [
    {
     "output_type": "execute_result",
     "data": {
      "text/plain": [
       "[4, 3, 1, 1, 0]"
      ]
     },
     "metadata": {},
     "execution_count": 56
    }
   ],
   "source": [
    "solution2(prices)"
   ]
  },
  {
   "cell_type": "code",
   "execution_count": null,
   "metadata": {},
   "outputs": [],
   "source": []
  }
 ]
}